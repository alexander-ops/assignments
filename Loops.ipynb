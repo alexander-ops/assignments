{
  "nbformat": 4,
  "nbformat_minor": 0,
  "metadata": {
    "colab": {
      "provenance": [],
      "include_colab_link": true
    },
    "kernelspec": {
      "name": "python3",
      "display_name": "Python 3"
    },
    "language_info": {
      "name": "python"
    }
  },
  "cells": [
    {
      "cell_type": "markdown",
      "metadata": {
        "id": "view-in-github",
        "colab_type": "text"
      },
      "source": [
        "<a href=\"https://colab.research.google.com/github/alexander-ops/assignments/blob/main/Loops.ipynb\" target=\"_parent\"><img src=\"https://colab.research.google.com/assets/colab-badge.svg\" alt=\"Open In Colab\"/></a>"
      ]
    },
    {
      "cell_type": "markdown",
      "source": [
        "# Loops in Python\n",
        "\n",
        "A sequence of instructions that repeats until a certain condition is met\n",
        "\n",
        "## Objective\n",
        "Understand how loops are applied\n",
        "\n",
        "## Prerequisite\n",
        "\n",
        "- Decision statements\n",
        "- Input functions\n",
        "- Python literals\n",
        "- Programming variables\n",
        "\n",
        "## What do you need to complete this exercise?\n",
        "\n",
        "You can perform this exercise in any Python IDE, including JupyterLab or Google Colab.\n"
      ],
      "metadata": {
        "id": "2ITy4ycVFXBq"
      }
    },
    {
      "cell_type": "markdown",
      "source": [
        "### While loop\n",
        "\n",
        "a. Please write Python code using a while loop to perform the following steps.\n",
        "\n",
        "1. Take any non-negative and non-zero integer number and name it ```n0```\n",
        "2. if the number is even, evaluate a new ```n0``` as ```n0 ÷ 2```;\n",
        "3. Otherwise, if the number is odd, evaluate a new ```n0``` as ```3 * n0 + 1```;\n",
        "4. if ```n0``` is not equal to 1, go to point 2.\n",
        "\n",
        "#### Sample input: ```16```\n",
        "\n",
        "#### Expected output: ###\n",
        "\n",
        "```\n",
        "8\n",
        "4\n",
        "2\n",
        "1\n",
        "steps = 4\n",
        "```"
      ],
      "metadata": {
        "id": "uQxH0KO0tsDc"
      }
    },
    {
      "cell_type": "code",
      "source": [
        "# Write your code here.\n",
        "def input(ne):\n",
        "    if ne <= 0:\n",
        "        print(\"Please enter a non-negative, non-zero integer.\")\n",
        "        return\n",
        "\n",
        "    while ne != 1:\n",
        "        print(ne, end=\" \")  # Print the current number\n",
        "\n",
        "        if ne % 2 == 0:  # Check if even\n",
        "            ne = ne // 2  # Integer division by 2\n",
        "        else:\n",
        "            ne = 3 * ne + 1\n",
        "\n",
        "    print(1)\n",
        "input(16)\n"
      ],
      "metadata": {
        "id": "5M7ksW8xsC3k"
      },
      "execution_count": null,
      "outputs": []
    },
    {
      "cell_type": "markdown",
      "source": [
        "b. Write code that uses a while loop and runs indefinitely. Modify the same code to resolve the infinite loop issue."
      ],
      "metadata": {
        "id": "S3X6hdy5sI-s"
      }
    },
    {
      "cell_type": "code",
      "source": [
        "# Write your code here.\n",
        "while True:\n",
        "  print(\"This loop will run forever woooo\")"
      ],
      "metadata": {
        "id": "cs0pk1_qsNY0",
        "collapsed": true
      },
      "execution_count": null,
      "outputs": []
    },
    {
      "cell_type": "markdown",
      "source": [
        "c. Write a program that takes two integers as input and asks the user to choose an arithmetic operation to perform with those numbers. At the end of the program, prompt the user with the question, \"Do you want to continue?\" If the user selects \"Y\" or \"y,\" the program should restart; otherwise, it should exit and display the message, \"Have a good day.\""
      ],
      "metadata": {
        "id": "oxXvMBKNsX8M"
      }
    },
    {
      "cell_type": "code",
      "source": [
        "# Write your code here.\n",
        "while True:\n",
        "  num1 = int(input(\"First number? \"))\n",
        "  num2 = int(input(\"Second number? \"))\n",
        "\n",
        "  print(\"1. Add\")\n",
        "  print(\"2. Subtract\")\n",
        "  print(\"3. Multiply\")\n",
        "  print(\"4. Divide\")\n",
        "  choice = int(input(\"Choice? \"))\n",
        "\n",
        "  if choice == 1:\n",
        "    print(\"Sum is:\", num1 + num2)\n",
        "  elif choice == 2:\n",
        "    print(\"Difference is:\", num1 - num2)\n",
        "  elif choice == 3:\n",
        "    print(\"Product is:\", num1 * num2)\n",
        "  elif choice == 4:\n",
        "    if num2 == 0:\n",
        "      print(\"Cannot divide by zero.\")\n",
        "    else:\n",
        "      print(\"Quotient is:\", num1 / num2)\n",
        "  else:\n",
        "    print(\"Invalid choice.\")\n",
        "\n",
        "  again = input(\"Again? (y/n) \")\n",
        "  if again == \"n\":\n",
        "    print(\"Have a good day!\")\n",
        "    break"
      ],
      "metadata": {
        "id": "w9Ai1I_JsYw9"
      },
      "execution_count": null,
      "outputs": []
    },
    {
      "cell_type": "markdown",
      "source": [
        "### 2. For loops\n",
        "\n",
        "a. Write a code that counts the total number of characters in a text and also counts each character individually. For example, consider the sentence \"To be, or not to be, that is the question.\" The code should determine the total number of letters and how many times each letter appears, including specific counts for the letters 't' and 'o', etc. Ignore the upper and lower cases letters, and any punctuations symbols. Use only for loop, while loop, break and continue statements where necessary.\n",
        "\n",
        "#### Sample input: ```To be, or not to be, that is the question```\n",
        "\n",
        "#### Expected output: ###\n",
        "\n",
        "```\n",
        "Total number of alphabets: 30\n",
        "Total number of distinct alphabets are:\n",
        "T = 7\n",
        "o = 4\n",
        "```\n",
        "> **Note:** The expected output above is incomplete.\n"
      ],
      "metadata": {
        "id": "IeiOBf1Tse1c"
      }
    },
    {
      "cell_type": "code",
      "source": [
        "# Write your code here.\n",
        "def count_characters(text):\n",
        "\n",
        "  text = text.lower()  # Convert to lowercase for case-insensitive counting\n",
        "  char_counts = {}\n",
        "  total_alphabets = 0\n",
        "\n",
        "  for char in text:\n",
        "    if char.isalpha():  # Check if the character is an alphabet\n",
        "      total_alphabets += 1\n",
        "      char_counts[char] = char_counts.get(char, 0) + 1  # Increment count\n",
        "\n",
        "  print(\"Total number of alphabets:\", total_alphabets)\n",
        "  print(\"Total number of distinct alphabets are:\")\n",
        "\n",
        "  for char, count in char_counts.items():\n",
        "    print(f\"{char} - {count}\")\n",
        "\n",
        "\n",
        "text = \"To be, or not to be, that is the question\"\n",
        "count_characters(text)"
      ],
      "metadata": {
        "id": "FprfxHfksh2-",
        "colab": {
          "base_uri": "https://localhost:8080/"
        },
        "outputId": "85082de9-b943-4705-af41-d422d63928bf"
      },
      "execution_count": 2,
      "outputs": [
        {
          "output_type": "stream",
          "name": "stdout",
          "text": [
            "Total number of alphabets: 30\n",
            "Total number of distinct alphabets are:\n",
            "t - 7\n",
            "o - 5\n",
            "b - 2\n",
            "e - 4\n",
            "r - 1\n",
            "n - 2\n",
            "h - 2\n",
            "a - 1\n",
            "i - 2\n",
            "s - 2\n",
            "q - 1\n",
            "u - 1\n"
          ]
        }
      ]
    },
    {
      "cell_type": "markdown",
      "source": [
        "## Challenges\n",
        "\n",
        "Please describe the challenges you faced during the exercise."
      ],
      "metadata": {
        "id": "xQzjxKdvvbyo"
      }
    },
    {
      "cell_type": "markdown",
      "source": [
        "Write your challenges here\n",
        "\n",
        "I struggled a bit with the for loops but eventually I got the hang of them"
      ],
      "metadata": {
        "id": "qfJNpTB5EbY4"
      }
    }
  ]
}